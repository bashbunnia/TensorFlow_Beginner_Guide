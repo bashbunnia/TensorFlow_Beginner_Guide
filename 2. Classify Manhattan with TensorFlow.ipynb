{
 "cells": [
  {
   "cell_type": "markdown",
   "metadata": {},
   "source": [
    "# 2. Classify Manhattan with TensorFlow\n",
    "\n",
    "In this codelab, we will use TensorFlow to train a neural network to predict whether a geolocation is in Manhattan or not, by looking at its longitude and latitude.\n",
    "\n",
    "<br/>\n",
    "![](images/manhattan.png)\n",
    "<br/>\n",
    "<br/>"
   ]
  },
  {
   "cell_type": "markdown",
   "metadata": {},
   "source": [
    "## 2-1. Read and Process the Data\n",
    "### Labs and Solutions\n",
    "\n",
    "In this codelab there are several labs where you need to write your code to solve the problems. If you need some hints, you may check with the mentor about possible solutions to run this lab."
   ]
