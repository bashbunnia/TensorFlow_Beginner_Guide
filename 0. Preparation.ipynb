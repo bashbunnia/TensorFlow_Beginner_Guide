{
 "cells": [
  {
   "cell_type": "markdown",
   "metadata": {},
   "source": [
    "# 0. TensorFlow Introduction: Preparation\n",
    "\n",
    "<br/>\n",
    "\n",
    "## 0-1. Prerequisites\n",
    "\n",
    "This codelab requires:\n",
    "\n",
    "- A computer running: Mac OS X, Windows or Linux\n",
    "- A learner with: Basic experience on Python\n",
    "\n",
    "<br/>\n",
    "\n",
    "# 1. Download and Run\n",
    "\n",
    "## 1-1. Download the codelab materials\n",
    "\n",
    "From [TensorFlow-Intro repository on GitHub](https://github.com/karthikmswamy/TF_Intro_Notebooks), click the green `Clone or download` button, download a zip file, and extract the zip file. You can move the extracted folder `TensorFlow-Intro-master` to anywhere you like. Then open [the top page of your local Datalab folder](http://localhost:8080/tree), navigate to the `TensorFlow-Intro-master` folder, so you will see the list of the codelab materials.\n",
    "\n",
    "![](images/codelab_materials.png)\n",
    "\n",
    "## 1-2. Learn Jupyter Notebook basics\n",
    "